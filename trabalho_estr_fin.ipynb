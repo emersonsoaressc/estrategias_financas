{
 "cells": [
  {
   "cell_type": "markdown",
   "metadata": {},
   "source": [
    "### IMPORTANDO BIBLIOTECAS"
   ]
  },
  {
   "cell_type": "code",
   "execution_count": 73,
   "metadata": {},
   "outputs": [],
   "source": [
    "import pandas as pd\n",
    "import sgs\n",
    "import numpy as np\n",
    "import yfinance as yf\n",
    "\n",
    "%matplotlib inline \n",
    "\n",
    "import matplotlib.pyplot as plt\n",
    "import pandas as pd\n",
    "import seaborn as sns\n",
    "from tqdm import tqdm\n",
    "import random\n",
    "plt.style.use('dark_background')\n",
    "\n",
    "import warnings\n",
    "warnings.filterwarnings(\"ignore\")"
   ]
  },
  {
   "cell_type": "markdown",
   "metadata": {},
   "source": [
    "### BAIXANDO BASE DE DADOS NECESSÁRIAS"
   ]
  },
  {
   "cell_type": "code",
   "execution_count": 74,
   "metadata": {},
   "outputs": [
    {
     "name": "stderr",
     "output_type": "stream",
     "text": [
      "[*********************100%%**********************]  4 of 4 completed\n",
      "[*********************100%%**********************]  1 of 1 completed\n"
     ]
    }
   ],
   "source": [
    "\n",
    "tickers = ['MSFT34.SA','RADL3.SA','EGIE3.SA','BBAS3.SA']\n",
    "df = yf.download(\n",
    "    tickers=tickers, \n",
    "    interval='1d',\n",
    "    start='2015-01-01', \n",
    "    end='2024-06-11')['Adj Close']\n",
    "\n",
    "df_bova = yf.download(\n",
    "    tickers=('BOVA11.SA'), \n",
    "    interval='1d',\n",
    "    start='2015-01-01', \n",
    "    end='2024-06-11')['Adj Close']\n",
    "\n",
    "SELIC_CODE = 11\n",
    "df_selic = sgs.time_serie(SELIC_CODE, start='02/01/2015', end='10/06/2024')\n",
    "\n",
    "df_retorno = pd.DataFrame()\n",
    "\n",
    "for i in df.columns:\n",
    "    df_retorno[f'ln_{i}'] = np.log(df[i].shift(-1) / df[i])\n",
    "\n",
    "df_retorno.dropna(inplace=True)"
   ]
  },
  {
   "cell_type": "markdown",
   "metadata": {},
   "source": [
    "### Risco / Retorno dos ativos"
   ]
  },
  {
   "cell_type": "code",
   "execution_count": 75,
   "metadata": {},
   "outputs": [
    {
     "data": {
      "text/plain": [
       "ln_BBAS3.SA     0.026209\n",
       "ln_EGIE3.SA     0.014697\n",
       "ln_MSFT34.SA    0.018971\n",
       "ln_RADL3.SA     0.019195\n",
       "dtype: float64"
      ]
     },
     "execution_count": 75,
     "metadata": {},
     "output_type": "execute_result"
    }
   ],
   "source": [
    "risco_ativos = df_retorno.std()\n",
    "risco_ativos"
   ]
  },
  {
   "cell_type": "code",
   "execution_count": 76,
   "metadata": {},
   "outputs": [
    {
     "data": {
      "text/plain": [
       "ln_BBAS3.SA     0.000606\n",
       "ln_EGIE3.SA     0.000457\n",
       "ln_MSFT34.SA    0.001299\n",
       "ln_RADL3.SA     0.000745\n",
       "dtype: float64"
      ]
     },
     "execution_count": 76,
     "metadata": {},
     "output_type": "execute_result"
    }
   ],
   "source": [
    "retorno_ativos = df_retorno.mean()\n",
    "retorno_ativos"
   ]
  },
  {
   "cell_type": "markdown",
   "metadata": {},
   "source": [
    "### DEFININDO O PESO DA CARTEIRA SEGUINDO MARKOWITZ/SHARPE"
   ]
  },
  {
   "cell_type": "code",
   "execution_count": 77,
   "metadata": {},
   "outputs": [],
   "source": [
    "pesos = [0.05,0.40,0.30,0.25]"
   ]
  },
  {
   "cell_type": "markdown",
   "metadata": {},
   "source": [
    "### Covariância entre os ativos"
   ]
  },
  {
   "cell_type": "code",
   "execution_count": 78,
   "metadata": {},
   "outputs": [
    {
     "data": {
      "text/html": [
       "<div>\n",
       "<style scoped>\n",
       "    .dataframe tbody tr th:only-of-type {\n",
       "        vertical-align: middle;\n",
       "    }\n",
       "\n",
       "    .dataframe tbody tr th {\n",
       "        vertical-align: top;\n",
       "    }\n",
       "\n",
       "    .dataframe thead th {\n",
       "        text-align: right;\n",
       "    }\n",
       "</style>\n",
       "<table border=\"1\" class=\"dataframe\">\n",
       "  <thead>\n",
       "    <tr style=\"text-align: right;\">\n",
       "      <th></th>\n",
       "      <th>ln_BBAS3.SA</th>\n",
       "      <th>ln_EGIE3.SA</th>\n",
       "      <th>ln_MSFT34.SA</th>\n",
       "      <th>ln_RADL3.SA</th>\n",
       "    </tr>\n",
       "  </thead>\n",
       "  <tbody>\n",
       "    <tr>\n",
       "      <th>ln_BBAS3.SA</th>\n",
       "      <td>0.000687</td>\n",
       "      <td>0.000192</td>\n",
       "      <td>-0.000022</td>\n",
       "      <td>0.000157</td>\n",
       "    </tr>\n",
       "    <tr>\n",
       "      <th>ln_EGIE3.SA</th>\n",
       "      <td>0.000192</td>\n",
       "      <td>0.000216</td>\n",
       "      <td>0.000009</td>\n",
       "      <td>0.000097</td>\n",
       "    </tr>\n",
       "    <tr>\n",
       "      <th>ln_MSFT34.SA</th>\n",
       "      <td>-0.000022</td>\n",
       "      <td>0.000009</td>\n",
       "      <td>0.000360</td>\n",
       "      <td>0.000023</td>\n",
       "    </tr>\n",
       "    <tr>\n",
       "      <th>ln_RADL3.SA</th>\n",
       "      <td>0.000157</td>\n",
       "      <td>0.000097</td>\n",
       "      <td>0.000023</td>\n",
       "      <td>0.000368</td>\n",
       "    </tr>\n",
       "  </tbody>\n",
       "</table>\n",
       "</div>"
      ],
      "text/plain": [
       "              ln_BBAS3.SA  ln_EGIE3.SA  ln_MSFT34.SA  ln_RADL3.SA\n",
       "ln_BBAS3.SA      0.000687     0.000192     -0.000022     0.000157\n",
       "ln_EGIE3.SA      0.000192     0.000216      0.000009     0.000097\n",
       "ln_MSFT34.SA    -0.000022     0.000009      0.000360     0.000023\n",
       "ln_RADL3.SA      0.000157     0.000097      0.000023     0.000368"
      ]
     },
     "execution_count": 78,
     "metadata": {},
     "output_type": "execute_result"
    }
   ],
   "source": [
    "cov_retornos = df_retorno.cov()\n",
    "cov_retornos"
   ]
  },
  {
   "cell_type": "markdown",
   "metadata": {},
   "source": [
    "### Estimando o Retorno do Portfólio"
   ]
  },
  {
   "cell_type": "code",
   "execution_count": 79,
   "metadata": {},
   "outputs": [
    {
     "data": {
      "text/plain": [
       "0.0007889918612724181"
      ]
     },
     "execution_count": 79,
     "metadata": {},
     "output_type": "execute_result"
    }
   ],
   "source": [
    "retorno_portfolio = (retorno_ativos*pesos).sum()\n",
    "retorno_portfolio"
   ]
  },
  {
   "cell_type": "markdown",
   "metadata": {},
   "source": [
    "### Estimando o Risco do Portfólio"
   ]
  },
  {
   "cell_type": "code",
   "execution_count": 80,
   "metadata": {},
   "outputs": [
    {
     "data": {
      "text/html": [
       "<div>\n",
       "<style scoped>\n",
       "    .dataframe tbody tr th:only-of-type {\n",
       "        vertical-align: middle;\n",
       "    }\n",
       "\n",
       "    .dataframe tbody tr th {\n",
       "        vertical-align: top;\n",
       "    }\n",
       "\n",
       "    .dataframe thead th {\n",
       "        text-align: right;\n",
       "    }\n",
       "</style>\n",
       "<table border=\"1\" class=\"dataframe\">\n",
       "  <thead>\n",
       "    <tr style=\"text-align: right;\">\n",
       "      <th></th>\n",
       "      <th>ln_BBAS3.SA</th>\n",
       "      <th>ln_EGIE3.SA</th>\n",
       "      <th>ln_MSFT34.SA</th>\n",
       "      <th>ln_RADL3.SA</th>\n",
       "    </tr>\n",
       "    <tr>\n",
       "      <th>Date</th>\n",
       "      <th></th>\n",
       "      <th></th>\n",
       "      <th></th>\n",
       "      <th></th>\n",
       "    </tr>\n",
       "  </thead>\n",
       "  <tbody>\n",
       "    <tr>\n",
       "      <th>2015-01-02</th>\n",
       "      <td>-0.020969</td>\n",
       "      <td>0.001226</td>\n",
       "      <td>0.005143</td>\n",
       "      <td>-0.006826</td>\n",
       "    </tr>\n",
       "    <tr>\n",
       "      <th>2015-01-05</th>\n",
       "      <td>0.013880</td>\n",
       "      <td>0.020012</td>\n",
       "      <td>0.099820</td>\n",
       "      <td>0.028596</td>\n",
       "    </tr>\n",
       "    <tr>\n",
       "      <th>2015-01-06</th>\n",
       "      <td>0.043078</td>\n",
       "      <td>0.024905</td>\n",
       "      <td>-0.111650</td>\n",
       "      <td>0.017081</td>\n",
       "    </tr>\n",
       "    <tr>\n",
       "      <th>2015-01-07</th>\n",
       "      <td>0.003401</td>\n",
       "      <td>0.010197</td>\n",
       "      <td>0.015847</td>\n",
       "      <td>0.002691</td>\n",
       "    </tr>\n",
       "    <tr>\n",
       "      <th>2015-01-08</th>\n",
       "      <td>-0.044259</td>\n",
       "      <td>-0.079922</td>\n",
       "      <td>-0.014809</td>\n",
       "      <td>-0.015474</td>\n",
       "    </tr>\n",
       "    <tr>\n",
       "      <th>...</th>\n",
       "      <td>...</td>\n",
       "      <td>...</td>\n",
       "      <td>...</td>\n",
       "      <td>...</td>\n",
       "    </tr>\n",
       "    <tr>\n",
       "      <th>2024-06-03</th>\n",
       "      <td>0.002942</td>\n",
       "      <td>0.001589</td>\n",
       "      <td>0.019476</td>\n",
       "      <td>0.000000</td>\n",
       "    </tr>\n",
       "    <tr>\n",
       "      <th>2024-06-04</th>\n",
       "      <td>0.002201</td>\n",
       "      <td>-0.006372</td>\n",
       "      <td>0.018997</td>\n",
       "      <td>-0.009176</td>\n",
       "    </tr>\n",
       "    <tr>\n",
       "      <th>2024-06-05</th>\n",
       "      <td>0.013105</td>\n",
       "      <td>0.004783</td>\n",
       "      <td>-0.006005</td>\n",
       "      <td>0.007188</td>\n",
       "    </tr>\n",
       "    <tr>\n",
       "      <th>2024-06-06</th>\n",
       "      <td>-0.017144</td>\n",
       "      <td>-0.012116</td>\n",
       "      <td>0.011869</td>\n",
       "      <td>0.007532</td>\n",
       "    </tr>\n",
       "    <tr>\n",
       "      <th>2024-06-07</th>\n",
       "      <td>0.001103</td>\n",
       "      <td>0.000000</td>\n",
       "      <td>0.014667</td>\n",
       "      <td>-0.008727</td>\n",
       "    </tr>\n",
       "  </tbody>\n",
       "</table>\n",
       "<p>2345 rows × 4 columns</p>\n",
       "</div>"
      ],
      "text/plain": [
       "            ln_BBAS3.SA  ln_EGIE3.SA  ln_MSFT34.SA  ln_RADL3.SA\n",
       "Date                                                           \n",
       "2015-01-02    -0.020969     0.001226      0.005143    -0.006826\n",
       "2015-01-05     0.013880     0.020012      0.099820     0.028596\n",
       "2015-01-06     0.043078     0.024905     -0.111650     0.017081\n",
       "2015-01-07     0.003401     0.010197      0.015847     0.002691\n",
       "2015-01-08    -0.044259    -0.079922     -0.014809    -0.015474\n",
       "...                 ...          ...           ...          ...\n",
       "2024-06-03     0.002942     0.001589      0.019476     0.000000\n",
       "2024-06-04     0.002201    -0.006372      0.018997    -0.009176\n",
       "2024-06-05     0.013105     0.004783     -0.006005     0.007188\n",
       "2024-06-06    -0.017144    -0.012116      0.011869     0.007532\n",
       "2024-06-07     0.001103     0.000000      0.014667    -0.008727\n",
       "\n",
       "[2345 rows x 4 columns]"
      ]
     },
     "execution_count": 80,
     "metadata": {},
     "output_type": "execute_result"
    }
   ],
   "source": [
    "df_retorno"
   ]
  },
  {
   "cell_type": "code",
   "execution_count": 81,
   "metadata": {},
   "outputs": [
    {
     "data": {
      "text/html": [
       "<div>\n",
       "<style scoped>\n",
       "    .dataframe tbody tr th:only-of-type {\n",
       "        vertical-align: middle;\n",
       "    }\n",
       "\n",
       "    .dataframe tbody tr th {\n",
       "        vertical-align: top;\n",
       "    }\n",
       "\n",
       "    .dataframe thead th {\n",
       "        text-align: right;\n",
       "    }\n",
       "</style>\n",
       "<table border=\"1\" class=\"dataframe\">\n",
       "  <thead>\n",
       "    <tr style=\"text-align: right;\">\n",
       "      <th></th>\n",
       "      <th>Risco</th>\n",
       "      <th>Retorno</th>\n",
       "      <th>W</th>\n",
       "      <th>W²</th>\n",
       "      <th>sigma²</th>\n",
       "      <th>W² x sigma²</th>\n",
       "    </tr>\n",
       "  </thead>\n",
       "  <tbody>\n",
       "    <tr>\n",
       "      <th>ln_BBAS3.SA</th>\n",
       "      <td>0.026209</td>\n",
       "      <td>0.000606</td>\n",
       "      <td>0.05</td>\n",
       "      <td>0.0025</td>\n",
       "      <td>3.666729e-07</td>\n",
       "      <td>9.166823e-10</td>\n",
       "    </tr>\n",
       "    <tr>\n",
       "      <th>ln_EGIE3.SA</th>\n",
       "      <td>0.014697</td>\n",
       "      <td>0.000457</td>\n",
       "      <td>0.40</td>\n",
       "      <td>0.1600</td>\n",
       "      <td>2.088951e-07</td>\n",
       "      <td>3.342321e-08</td>\n",
       "    </tr>\n",
       "    <tr>\n",
       "      <th>ln_MSFT34.SA</th>\n",
       "      <td>0.018971</td>\n",
       "      <td>0.001299</td>\n",
       "      <td>0.30</td>\n",
       "      <td>0.0900</td>\n",
       "      <td>1.687826e-06</td>\n",
       "      <td>1.519043e-07</td>\n",
       "    </tr>\n",
       "    <tr>\n",
       "      <th>ln_RADL3.SA</th>\n",
       "      <td>0.019195</td>\n",
       "      <td>0.000745</td>\n",
       "      <td>0.25</td>\n",
       "      <td>0.0625</td>\n",
       "      <td>5.544046e-07</td>\n",
       "      <td>3.465029e-08</td>\n",
       "    </tr>\n",
       "  </tbody>\n",
       "</table>\n",
       "</div>"
      ],
      "text/plain": [
       "                 Risco   Retorno     W      W²        sigma²   W² x sigma²\n",
       "ln_BBAS3.SA   0.026209  0.000606  0.05  0.0025  3.666729e-07  9.166823e-10\n",
       "ln_EGIE3.SA   0.014697  0.000457  0.40  0.1600  2.088951e-07  3.342321e-08\n",
       "ln_MSFT34.SA  0.018971  0.001299  0.30  0.0900  1.687826e-06  1.519043e-07\n",
       "ln_RADL3.SA   0.019195  0.000745  0.25  0.0625  5.544046e-07  3.465029e-08"
      ]
     },
     "execution_count": 81,
     "metadata": {},
     "output_type": "execute_result"
    }
   ],
   "source": [
    "df_risco_retorno = pd.concat([risco_ativos,retorno_ativos], axis=1)\n",
    "df_risco_retorno.rename(columns={0:'Risco', 1:'Retorno'}, inplace=True)\n",
    "df_risco_retorno['W'] = pesos\n",
    "df_risco_retorno['W²'] = np.square(pesos)\n",
    "df_risco_retorno['sigma²'] = np.square(df_risco_retorno['Retorno'])\n",
    "df_risco_retorno['W² x sigma²'] = df_risco_retorno['W²'] * df_risco_retorno['sigma²']\n",
    "df_risco_retorno\n",
    "\n"
   ]
  },
  {
   "cell_type": "code",
   "execution_count": 82,
   "metadata": {},
   "outputs": [
    {
     "data": {
      "text/html": [
       "<div>\n",
       "<style scoped>\n",
       "    .dataframe tbody tr th:only-of-type {\n",
       "        vertical-align: middle;\n",
       "    }\n",
       "\n",
       "    .dataframe tbody tr th {\n",
       "        vertical-align: top;\n",
       "    }\n",
       "\n",
       "    .dataframe thead th {\n",
       "        text-align: right;\n",
       "    }\n",
       "</style>\n",
       "<table border=\"1\" class=\"dataframe\">\n",
       "  <thead>\n",
       "    <tr style=\"text-align: right;\">\n",
       "      <th></th>\n",
       "      <th>ln_BBAS3.SA</th>\n",
       "      <th>ln_EGIE3.SA</th>\n",
       "      <th>ln_MSFT34.SA</th>\n",
       "      <th>ln_RADL3.SA</th>\n",
       "    </tr>\n",
       "  </thead>\n",
       "  <tbody>\n",
       "    <tr>\n",
       "      <th>ln_BBAS3.SA</th>\n",
       "      <td>0.000687</td>\n",
       "      <td>0.000192</td>\n",
       "      <td>-0.000022</td>\n",
       "      <td>0.000157</td>\n",
       "    </tr>\n",
       "    <tr>\n",
       "      <th>ln_EGIE3.SA</th>\n",
       "      <td>0.000192</td>\n",
       "      <td>0.000216</td>\n",
       "      <td>0.000009</td>\n",
       "      <td>0.000097</td>\n",
       "    </tr>\n",
       "    <tr>\n",
       "      <th>ln_MSFT34.SA</th>\n",
       "      <td>-0.000022</td>\n",
       "      <td>0.000009</td>\n",
       "      <td>0.000360</td>\n",
       "      <td>0.000023</td>\n",
       "    </tr>\n",
       "    <tr>\n",
       "      <th>ln_RADL3.SA</th>\n",
       "      <td>0.000157</td>\n",
       "      <td>0.000097</td>\n",
       "      <td>0.000023</td>\n",
       "      <td>0.000368</td>\n",
       "    </tr>\n",
       "  </tbody>\n",
       "</table>\n",
       "</div>"
      ],
      "text/plain": [
       "              ln_BBAS3.SA  ln_EGIE3.SA  ln_MSFT34.SA  ln_RADL3.SA\n",
       "ln_BBAS3.SA      0.000687     0.000192     -0.000022     0.000157\n",
       "ln_EGIE3.SA      0.000192     0.000216      0.000009     0.000097\n",
       "ln_MSFT34.SA    -0.000022     0.000009      0.000360     0.000023\n",
       "ln_RADL3.SA      0.000157     0.000097      0.000023     0.000368"
      ]
     },
     "execution_count": 82,
     "metadata": {},
     "output_type": "execute_result"
    }
   ],
   "source": [
    "cov_retornos"
   ]
  },
  {
   "cell_type": "code",
   "execution_count": 83,
   "metadata": {},
   "outputs": [
    {
     "data": {
      "text/plain": [
       "0.01028428717665578"
      ]
     },
     "execution_count": 83,
     "metadata": {},
     "output_type": "execute_result"
    }
   ],
   "source": [
    "# somatorio de (W² x sigma²)\n",
    "# 2 x W[BBAS3.SA] x W[EGIE3.SA] x covariancia [BBAS3.SA - EGIE3.SA]\n",
    "# 2 x W[BBAS3.SA] x W[MSFT34.SA] x covariancia [BBAS3.SA - MSFT34.SA]\n",
    "# 2 x W[BBAS3.SA] x W[RADL3.SA] x covariancia [BBAS3.SA - RADL3.SA]\n",
    "\n",
    "# 2 x W[EGIE3.SA] x W[MSFT34.SA] x covariancia [EGIE3.SA - MSFT34.SA]\n",
    "# 2 x W[EGIE3.SA] x W[RADL3.SA] x covariancia [EGIE3.SA - RADL3.SA]\n",
    "\n",
    "# 2 x W[MSFT34.SA] x W[RADL3.SA] x covariancia [MSFT34.SA - RADL3.SA]\n",
    "\n",
    "risco_portfolio = np.sqrt(\n",
    "    df_risco_retorno['W² x sigma²'].sum() \n",
    "    + (2 * df_risco_retorno['W'][0] * df_risco_retorno['W'][1] * cov_retornos[f'ln_{tickers[0]}'][1])\n",
    "    + (2 * df_risco_retorno['W'][0] * df_risco_retorno['W'][2] * cov_retornos[f'ln_{tickers[0]}'][2])\n",
    "    + (2 * df_risco_retorno['W'][0] * df_risco_retorno['W'][3] * cov_retornos[f'ln_{tickers[0]}'][3])\n",
    "    + (2 * df_risco_retorno['W'][1] * df_risco_retorno['W'][2] * cov_retornos[f'ln_{tickers[1]}'][2])\n",
    "    + (2 * df_risco_retorno['W'][1] * df_risco_retorno['W'][3] * cov_retornos[f'ln_{tickers[1]}'][3])\n",
    "    + (2 * df_risco_retorno['W'][2] * df_risco_retorno['W'][3] * cov_retornos[f'ln_{tickers[2]}'][3])\n",
    ")\n",
    "risco_portfolio"
   ]
  },
  {
   "cell_type": "markdown",
   "metadata": {},
   "source": [
    "### Retorno do Portfólio"
   ]
  },
  {
   "cell_type": "code",
   "execution_count": 84,
   "metadata": {},
   "outputs": [
    {
     "name": "stdout",
     "output_type": "stream",
     "text": [
      "O retorno do portfólio foi de 0.08% a.d.\n"
     ]
    }
   ],
   "source": [
    "print(f'O retorno do portfólio foi de {round(retorno_portfolio*100,2)}% a.d.')"
   ]
  },
  {
   "cell_type": "markdown",
   "metadata": {},
   "source": [
    "### Risco do Portfólio"
   ]
  },
  {
   "cell_type": "code",
   "execution_count": 85,
   "metadata": {},
   "outputs": [
    {
     "name": "stdout",
     "output_type": "stream",
     "text": [
      "O risco do portfólio foi de 1.03% a.d.\n"
     ]
    }
   ],
   "source": [
    "print(f'O risco do portfólio foi de {round(risco_portfolio*100,2)}% a.d.')"
   ]
  },
  {
   "cell_type": "markdown",
   "metadata": {},
   "source": [
    "### Calculando o alfa e o beta da sua carteira por meio do CAPM"
   ]
  },
  {
   "cell_type": "markdown",
   "metadata": {},
   "source": [
    "##### Retorno da carteira (Rp):"
   ]
  },
  {
   "cell_type": "code",
   "execution_count": 93,
   "metadata": {},
   "outputs": [],
   "source": [
    "rp = retorno_portfolio"
   ]
  },
  {
   "cell_type": "markdown",
   "metadata": {},
   "source": [
    "##### Retorno do mercado (Rm)"
   ]
  },
  {
   "cell_type": "code",
   "execution_count": 87,
   "metadata": {},
   "outputs": [
    {
     "data": {
      "text/plain": [
       "0.0003923626717217679"
      ]
     },
     "execution_count": 87,
     "metadata": {},
     "output_type": "execute_result"
    }
   ],
   "source": [
    "retorno_bova = np.log(df_bova.shift(-1) / df_bova)\n",
    "rm = retorno_bova.mean()\n",
    "rm\n"
   ]
  },
  {
   "cell_type": "markdown",
   "metadata": {},
   "source": [
    "##### Taxa livre de risco (Rf)"
   ]
  },
  {
   "cell_type": "code",
   "execution_count": 88,
   "metadata": {},
   "outputs": [
    {
     "data": {
      "text/plain": [
       "-4.5591913717772645e-05"
      ]
     },
     "execution_count": 88,
     "metadata": {},
     "output_type": "execute_result"
    }
   ],
   "source": [
    "retorno_selic = np.log(df_selic.shift(-1) / df_selic)\n",
    "rf = retorno_selic.mean()\n",
    "rf"
   ]
  },
  {
   "cell_type": "markdown",
   "metadata": {},
   "source": [
    "##### Covariância entre os retornos da carteira e do mercado"
   ]
  },
  {
   "cell_type": "code",
   "execution_count": 89,
   "metadata": {},
   "outputs": [
    {
     "data": {
      "text/plain": [
       "0.00024889933404975754"
      ]
     },
     "execution_count": 89,
     "metadata": {},
     "output_type": "execute_result"
    }
   ],
   "source": [
    "\n",
    "carteira = df_retorno*pesos\n",
    "carteira['carteira'] = carteira[f'ln_{tickers[0]}']+carteira[f'ln_{tickers[1]}']+carteira[f'ln_{tickers[2]}']+carteira[f'ln_{tickers[3]}']\n",
    "df_cov_portfolio_mercado = pd.concat([carteira['carteira'],retorno_bova], axis=1)\n",
    "df_cov_portfolio_mercado.rename(columns={'Adj Close':'mercado'}, inplace=True)\n",
    "df_cov_portfolio_mercado = df_cov_portfolio_mercado.cov()\n",
    "cov_portfolio_mercado = df_cov_portfolio_mercado['mercado'][1]\n",
    "cov_portfolio_mercado"
   ]
  },
  {
   "cell_type": "markdown",
   "metadata": {},
   "source": [
    "#### Variância dos retornos do mercado"
   ]
  },
  {
   "cell_type": "code",
   "execution_count": 91,
   "metadata": {},
   "outputs": [
    {
     "data": {
      "text/plain": [
       "0.0002488993340497582"
      ]
     },
     "execution_count": 91,
     "metadata": {},
     "output_type": "execute_result"
    }
   ],
   "source": [
    "var_retornos_mercado = retorno_bova.var()\n",
    "var_retornos_mercado"
   ]
  },
  {
   "cell_type": "markdown",
   "metadata": {},
   "source": [
    "#### Beta (b)"
   ]
  },
  {
   "cell_type": "code",
   "execution_count": 92,
   "metadata": {},
   "outputs": [
    {
     "data": {
      "text/plain": [
       "0.9999999999999973"
      ]
     },
     "execution_count": 92,
     "metadata": {},
     "output_type": "execute_result"
    }
   ],
   "source": [
    "beta = cov_portfolio_mercado/var_retornos_mercado\n",
    "beta"
   ]
  },
  {
   "cell_type": "markdown",
   "metadata": {},
   "source": [
    "#### Alpha (a)"
   ]
  },
  {
   "cell_type": "code",
   "execution_count": 94,
   "metadata": {},
   "outputs": [
    {
     "data": {
      "text/plain": [
       "0.00039662918955065145"
      ]
     },
     "execution_count": 94,
     "metadata": {},
     "output_type": "execute_result"
    }
   ],
   "source": [
    "alpha = rp - (rf + beta*(rm - rf))\n",
    "alpha"
   ]
  },
  {
   "cell_type": "code",
   "execution_count": null,
   "metadata": {},
   "outputs": [],
   "source": []
  }
 ],
 "metadata": {
  "kernelspec": {
   "display_name": "Python 3.9.13 ('venv': venv)",
   "language": "python",
   "name": "python3"
  },
  "language_info": {
   "codemirror_mode": {
    "name": "ipython",
    "version": 3
   },
   "file_extension": ".py",
   "mimetype": "text/x-python",
   "name": "python",
   "nbconvert_exporter": "python",
   "pygments_lexer": "ipython3",
   "version": "3.9.13"
  },
  "orig_nbformat": 4,
  "vscode": {
   "interpreter": {
    "hash": "17afd37ebdc32b3de4170aa576f310cd0045be39c998ea2c763931fbd91d2213"
   }
  }
 },
 "nbformat": 4,
 "nbformat_minor": 2
}
